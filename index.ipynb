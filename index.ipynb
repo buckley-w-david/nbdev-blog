{
 "cells": [
  {
   "cell_type": "markdown",
   "metadata": {},
   "source": [
    "# My blog\n",
    "\n",
    "> This is some test"
   ]
  },
  {
   "cell_type": "markdown",
   "metadata": {},
   "source": [
    "A new blog, powered by Jupyter Notebooks and [nbdev](https://nbdev.fast.ai/)."
   ]
  }
 ],
 "metadata": {
  "kernelspec": {
   "display_name": "Python 3 (ipykernel)",
   "language": "python",
   "name": "python3"
  }
 },
 "nbformat": 4,
 "nbformat_minor": 2
}
