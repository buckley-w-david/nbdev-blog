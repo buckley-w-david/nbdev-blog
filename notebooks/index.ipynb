{
 "cells": [
  {
   "cell_type": "markdown",
   "metadata": {},
   "source": [
    "# My Jupyter Notebok Blog"
   ]
  },
  {
   "cell_type": "markdown",
   "metadata": {},
   "source": [
    "A new blog, powered by Jupyter Notebooks."
   ]
  },
  {
   "cell_type": "code",
   "execution_count": null,
   "metadata": {},
   "outputs": [
    {
     "data": {
      "text/markdown": [
       "## Posts"
      ],
      "text/plain": [
       "<IPython.core.display.Markdown object>"
      ]
     },
     "metadata": {},
     "output_type": "display_data"
    },
    {
     "data": {
      "text/markdown": [
       " - [Practical Deep Learning for Coders - Part 1](Practical%20Deep%20Learning%20for%20Coders%20-%20Part%201)"
      ],
      "text/plain": [
       "<IPython.core.display.Markdown object>"
      ]
     },
     "metadata": {},
     "output_type": "display_data"
    }
   ],
   "source": [
    "import pathlib, urllib.parse\n",
    "from IPython.display import display, Markdown\n",
    "posts = [path for path in pathlib.Path(\"posts\").glob('*.ipynb') if not str(path).startswith('.')]\n",
    "\n",
    "display(Markdown(\"## Posts\"))\n",
    "for page in posts:\n",
    "    display(Markdown(f\" - [{page.stem}]({urllib.parse.quote(page.stem)})\"))"
   ]
  },
  {
   "cell_type": "code",
   "execution_count": null,
   "metadata": {},
   "outputs": [],
   "source": []
  }
 ],
 "metadata": {
  "kernelspec": {
   "display_name": "Python 3 (ipykernel)",
   "language": "python",
   "name": "python3"
  }
 },
 "nbformat": 4,
 "nbformat_minor": 2
}
